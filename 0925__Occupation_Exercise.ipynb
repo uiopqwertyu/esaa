{
  "nbformat": 4,
  "nbformat_minor": 0,
  "metadata": {
    "anaconda-cloud": {},
    "kernelspec": {
      "display_name": "Python 3",
      "language": "python",
      "name": "python3"
    },
    "language_info": {
      "codemirror_mode": {
        "name": "ipython",
        "version": 3
      },
      "file_extension": ".py",
      "mimetype": "text/x-python",
      "name": "python",
      "nbconvert_exporter": "python",
      "pygments_lexer": "ipython3",
      "version": "3.7.3"
    },
    "colab": {
      "name": "0925 _Occupation_Exercise.ipynb",
      "provenance": [],
      "include_colab_link": true
    }
  },
  "cells": [
    {
      "cell_type": "markdown",
      "metadata": {
        "id": "view-in-github",
        "colab_type": "text"
      },
      "source": [
        "<a href=\"https://colab.research.google.com/github/uiopqwertyu/esaa/blob/master/0925__Occupation_Exercise.ipynb\" target=\"_parent\"><img src=\"https://colab.research.google.com/assets/colab-badge.svg\" alt=\"Open In Colab\"/></a>"
      ]
    },
    {
      "cell_type": "markdown",
      "metadata": {
        "id": "3J9U2STlrd6y"
      },
      "source": [
        "# 연습3 감 잡기"
      ]
    },
    {
      "cell_type": "markdown",
      "metadata": {
        "id": "_MNjTMEUrd6z"
      },
      "source": [
        "이번에는 데이터를 인터넷에서 직접 가져올 겁니다. https://github.com/justmarkham 에게 자료와 교재를 제공해줘서 특별히 감사를 전합니다.\n",
        "\n",
        "### 단계 1. 필요한 라이브러리를 다운로드한다."
      ]
    },
    {
      "cell_type": "code",
      "metadata": {
        "id": "N_wXH_VDrd60"
      },
      "source": [
        "import pandas as pd"
      ],
      "execution_count": 1,
      "outputs": []
    },
    {
      "cell_type": "markdown",
      "metadata": {
        "id": "IPCEPlI8rd64"
      },
      "source": [
        "### 단계2. 자료를 불러온다."
      ]
    },
    {
      "cell_type": "code",
      "metadata": {
        "id": "a3_jkh0drd64"
      },
      "source": [
        "users = pd.read_csv('https://raw.githubusercontent.com/justmarkham/DAT8/master/data/u.user', \n",
        "                      sep='|', index_col='user_id')"
      ],
      "execution_count": 2,
      "outputs": []
    },
    {
      "cell_type": "markdown",
      "metadata": {
        "id": "qmBdmrlqrd67"
      },
      "source": [
        "### 단계4. 첫 25개 열을 본다."
      ]
    },
    {
      "cell_type": "code",
      "metadata": {
        "scrolled": true,
        "id": "Ko4YWF0Ird68",
        "outputId": "63b5f24d-9828-4448-bf52-987aed45c5ac",
        "colab": {
          "base_uri": "https://localhost:8080/",
          "height": 492
        }
      },
      "source": [
        "print(users.head(25))"
      ],
      "execution_count": 3,
      "outputs": [
        {
          "output_type": "stream",
          "text": [
            "         age gender     occupation zip_code\n",
            "user_id                                    \n",
            "1         24      M     technician    85711\n",
            "2         53      F          other    94043\n",
            "3         23      M         writer    32067\n",
            "4         24      M     technician    43537\n",
            "5         33      F          other    15213\n",
            "6         42      M      executive    98101\n",
            "7         57      M  administrator    91344\n",
            "8         36      M  administrator    05201\n",
            "9         29      M        student    01002\n",
            "10        53      M         lawyer    90703\n",
            "11        39      F          other    30329\n",
            "12        28      F          other    06405\n",
            "13        47      M       educator    29206\n",
            "14        45      M      scientist    55106\n",
            "15        49      F       educator    97301\n",
            "16        21      M  entertainment    10309\n",
            "17        30      M     programmer    06355\n",
            "18        35      F          other    37212\n",
            "19        40      M      librarian    02138\n",
            "20        42      F      homemaker    95660\n",
            "21        26      M         writer    30068\n",
            "22        25      M         writer    40206\n",
            "23        30      F         artist    48197\n",
            "24        21      F         artist    94533\n",
            "25        39      M       engineer    55107\n"
          ],
          "name": "stdout"
        }
      ]
    },
    {
      "cell_type": "markdown",
      "metadata": {
        "id": "M9wQKymIrd6_"
      },
      "source": [
        "### 단계5. 마지막 10개 열을 본다."
      ]
    },
    {
      "cell_type": "code",
      "metadata": {
        "scrolled": true,
        "id": "gqWFiqtzrd6_",
        "outputId": "dc92b6f5-0381-4b1c-d91d-c1347e19dce7",
        "colab": {
          "base_uri": "https://localhost:8080/",
          "height": 228
        }
      },
      "source": [
        "print(users.tail(10))"
      ],
      "execution_count": 5,
      "outputs": [
        {
          "output_type": "stream",
          "text": [
            "         age gender     occupation zip_code\n",
            "user_id                                    \n",
            "934       61      M       engineer    22902\n",
            "935       42      M         doctor    66221\n",
            "936       24      M          other    32789\n",
            "937       48      M       educator    98072\n",
            "938       38      F     technician    55038\n",
            "939       26      F        student    33319\n",
            "940       32      M  administrator    02215\n",
            "941       20      M        student    97229\n",
            "942       48      F      librarian    78209\n",
            "943       22      M        student    77841\n"
          ],
          "name": "stdout"
        }
      ]
    },
    {
      "cell_type": "markdown",
      "metadata": {
        "id": "sBfCKg9ird7C"
      },
      "source": [
        "### 단계 6. 자료에 있는 관측치(observations)의 수는 총 몇 개인가?"
      ]
    },
    {
      "cell_type": "code",
      "metadata": {
        "id": "0yFy8UAGrd7D"
      },
      "source": [
        "print(users.shape[0])"
      ],
      "execution_count": null,
      "outputs": []
    },
    {
      "cell_type": "markdown",
      "metadata": {
        "id": "O9DLH2S2rd7F"
      },
      "source": [
        "### 단계 7. 데이터 셋에 있는 열(columns)의 수는 총 몇 개인가?"
      ]
    },
    {
      "cell_type": "code",
      "metadata": {
        "id": "z0OfvCRurd7G"
      },
      "source": [
        "print(users.shape[0])"
      ],
      "execution_count": null,
      "outputs": []
    },
    {
      "cell_type": "markdown",
      "metadata": {
        "id": "bn3F7k-rrd7L"
      },
      "source": [
        "### 단계 8. 모든 열의 이름을 출력(print)한다."
      ]
    },
    {
      "cell_type": "code",
      "metadata": {
        "id": "5VuZxE8prd7L",
        "outputId": "e42e1aad-abc2-4d39-983d-e3d90a4f0a81",
        "colab": {
          "base_uri": "https://localhost:8080/",
          "height": 34
        }
      },
      "source": [
        "print(users.columns)"
      ],
      "execution_count": 9,
      "outputs": [
        {
          "output_type": "stream",
          "text": [
            "Index(['age', 'gender', 'occupation', 'zip_code'], dtype='object')\n"
          ],
          "name": "stdout"
        }
      ]
    },
    {
      "cell_type": "markdown",
      "metadata": {
        "id": "aUphsA64rd7O"
      },
      "source": [
        "### 단계 9. 자료는 어떻게 색인되어 있나?"
      ]
    },
    {
      "cell_type": "code",
      "metadata": {
        "id": "iU9LFowerd7P"
      },
      "source": [
        "print(users.info())"
      ],
      "execution_count": null,
      "outputs": []
    },
    {
      "cell_type": "markdown",
      "metadata": {
        "id": "h8JbJ2F_rd7T"
      },
      "source": [
        "### 단계 10. 각 열의 자료형(data type)은 무엇인가?"
      ]
    },
    {
      "cell_type": "code",
      "metadata": {
        "id": "j4jQG7s-rd7T"
      },
      "source": [
        "print(users.dtypes)"
      ],
      "execution_count": null,
      "outputs": []
    },
    {
      "cell_type": "markdown",
      "metadata": {
        "id": "PL6alG3Urd7W"
      },
      "source": [
        "### 단계 11. 직업(occupation) 열만 출력한다."
      ]
    },
    {
      "cell_type": "code",
      "metadata": {
        "id": "PiJOt8w1rd7X"
      },
      "source": [
        "print(users[\"occupation\"])"
      ],
      "execution_count": null,
      "outputs": []
    },
    {
      "cell_type": "markdown",
      "metadata": {
        "id": "hEtwCWdlrd7b"
      },
      "source": [
        "### 단계 12. 이 자료에는 서로 다른 직업이 얼마나 있는가?"
      ]
    },
    {
      "cell_type": "code",
      "metadata": {
        "id": "dRWFSgZrrd7c",
        "outputId": "b58182dd-645b-48d8-e117-c86a8ff8d096",
        "colab": {
          "base_uri": "https://localhost:8080/",
          "height": 34
        }
      },
      "source": [
        "print(users[\"occupation\"].nunique())"
      ],
      "execution_count": 10,
      "outputs": [
        {
          "output_type": "stream",
          "text": [
            "21\n"
          ],
          "name": "stdout"
        }
      ]
    },
    {
      "cell_type": "markdown",
      "metadata": {
        "id": "tV3qGn9brd7e"
      },
      "source": [
        "### 단계 13. 가장 흔한 직업은 무엇인가?"
      ]
    },
    {
      "cell_type": "code",
      "metadata": {
        "id": "IsBXMXmIrd7e",
        "outputId": "a2adfd29-817c-422f-a62f-2a36ddf7a8bb",
        "colab": {
          "base_uri": "https://localhost:8080/",
          "height": 422
        }
      },
      "source": [
        "print(users[\"occupation\"].value_counts())\n",
        "\n",
        "print(\"Student 가 가장 흔한 직업이다\")"
      ],
      "execution_count": 11,
      "outputs": [
        {
          "output_type": "stream",
          "text": [
            "student          196\n",
            "other            105\n",
            "educator          95\n",
            "administrator     79\n",
            "engineer          67\n",
            "programmer        66\n",
            "librarian         51\n",
            "writer            45\n",
            "executive         32\n",
            "scientist         31\n",
            "artist            28\n",
            "technician        27\n",
            "marketing         26\n",
            "entertainment     18\n",
            "healthcare        16\n",
            "retired           14\n",
            "salesman          12\n",
            "lawyer            12\n",
            "none               9\n",
            "doctor             7\n",
            "homemaker          7\n",
            "Name: occupation, dtype: int64\n",
            "가장 흔한 직업:  Student\n"
          ],
          "name": "stdout"
        }
      ]
    },
    {
      "cell_type": "markdown",
      "metadata": {
        "id": "8tIMuv1-rd7h"
      },
      "source": [
        "### 단계 14. 데이터 프레임을 요약한다."
      ]
    },
    {
      "cell_type": "code",
      "metadata": {
        "id": "jIDJff8Erd7i"
      },
      "source": [
        "users.describe()"
      ],
      "execution_count": null,
      "outputs": []
    },
    {
      "cell_type": "markdown",
      "metadata": {
        "id": "44DyxtDwrd7l"
      },
      "source": [
        "### 단계 15. 모든 열을 요약한다."
      ]
    },
    {
      "cell_type": "code",
      "metadata": {
        "id": "hIOSFaxhrd7m"
      },
      "source": [
        "users.describe(include = \"all\")"
      ],
      "execution_count": null,
      "outputs": []
    },
    {
      "cell_type": "markdown",
      "metadata": {
        "id": "FdbaBboPrd7o"
      },
      "source": [
        "### 단계 16. 오직 직업(occupation)열만 요약한다."
      ]
    },
    {
      "cell_type": "code",
      "metadata": {
        "id": "5INTH_09rd7o",
        "outputId": "8f2d0e92-0ea7-4e8e-892a-b7ba84166aaa",
        "colab": {
          "base_uri": "https://localhost:8080/",
          "height": 105
        }
      },
      "source": [
        "users['occupation'].describe()"
      ],
      "execution_count": 12,
      "outputs": [
        {
          "output_type": "execute_result",
          "data": {
            "text/plain": [
              "count         943\n",
              "unique         21\n",
              "top       student\n",
              "freq          196\n",
              "Name: occupation, dtype: object"
            ]
          },
          "metadata": {
            "tags": []
          },
          "execution_count": 12
        }
      ]
    },
    {
      "cell_type": "markdown",
      "metadata": {
        "id": "hHmAg5nMrd7r"
      },
      "source": [
        "### 단계 17. users의 평균 나이(age)는 얼마인가? (반올림하자.)"
      ]
    },
    {
      "cell_type": "code",
      "metadata": {
        "id": "HY6VucLerd7s"
      },
      "source": [
        "print(int(users['age'].mean()))"
      ],
      "execution_count": null,
      "outputs": []
    },
    {
      "cell_type": "markdown",
      "metadata": {
        "id": "7DQIS22Srd7v"
      },
      "source": [
        "### 단계 18. 빈도가 가장 적은 나이는 무엇인가?"
      ]
    },
    {
      "cell_type": "code",
      "metadata": {
        "id": "eHnz8lFbrd7v",
        "outputId": "0e931001-653e-4d18-b5c8-4dbdc75dd286",
        "colab": {
          "base_uri": "https://localhost:8080/",
          "height": 228
        }
      },
      "source": [
        "print(users['age'].value_counts())"
      ],
      "execution_count": 13,
      "outputs": [
        {
          "output_type": "stream",
          "text": [
            "30    39\n",
            "25    38\n",
            "22    37\n",
            "28    36\n",
            "27    35\n",
            "      ..\n",
            "11     1\n",
            "10     1\n",
            "73     1\n",
            "66     1\n",
            "7      1\n",
            "Name: age, Length: 61, dtype: int64\n"
          ],
          "name": "stdout"
        }
      ]
    }
  ]
}