{
  "nbformat": 4,
  "nbformat_minor": 0,
  "metadata": {
    "kernelspec": {
      "display_name": "Python 3",
      "language": "python",
      "name": "python3"
    },
    "language_info": {
      "codemirror_mode": {
        "name": "ipython",
        "version": 3
      },
      "file_extension": ".py",
      "mimetype": "text/x-python",
      "name": "python",
      "nbconvert_exporter": "python",
      "pygments_lexer": "ipython3",
      "version": "3.6.8"
    },
    "colab": {
      "name": "05_클래스.실습자료 - 배포.ipynb",
      "provenance": [],
      "include_colab_link": true
    }
  },
  "cells": [
    {
      "cell_type": "markdown",
      "metadata": {
        "id": "view-in-github",
        "colab_type": "text"
      },
      "source": [
        "<a href=\"https://colab.research.google.com/github/uiopqwertyu/esaa/blob/master/05_%ED%81%B4%EB%9E%98%EC%8A%A4_%EC%8B%A4%EC%8A%B5%EC%9E%90%EB%A3%8C_%EB%B0%B0%ED%8F%AC.ipynb\" target=\"_parent\"><img src=\"https://colab.research.google.com/assets/colab-badge.svg\" alt=\"Open In Colab\"/></a>"
      ]
    },
    {
      "cell_type": "markdown",
      "metadata": {
        "id": "2sCpmCKO3YVb",
        "colab_type": "text"
      },
      "source": [
        "### 1-1. 비어있는 사람(Human)클래스를 \"정의\" 하라"
      ]
    },
    {
      "cell_type": "code",
      "metadata": {
        "id": "pkvJArNY3ZZl",
        "colab_type": "code",
        "colab": {}
      },
      "source": [
        "class Human():"
      ],
      "execution_count": null,
      "outputs": []
    },
    {
      "cell_type": "markdown",
      "metadata": {
        "id": "L3qibMRY3YVc",
        "colab_type": "text"
      },
      "source": [
        "### 1-2. 사람(Human)클래스를 \"생성\"하고 areum변수에 할당해라"
      ]
    },
    {
      "cell_type": "code",
      "metadata": {
        "id": "9KU6jG2X3qlC",
        "colab_type": "code",
        "colab": {
          "base_uri": "https://localhost:8080/",
          "height": 34
        },
        "outputId": "547d0802-e15f-424d-f0ac-8fc0875b6459"
      },
      "source": [
        "areaum = Human()\n",
        "print(areaum)"
      ],
      "execution_count": null,
      "outputs": [
        {
          "output_type": "stream",
          "text": [
            "<__main__.Human object at 0x7fbd85ba53c8>\n"
          ],
          "name": "stdout"
        }
      ]
    },
    {
      "cell_type": "markdown",
      "metadata": {
        "id": "y1h5MPV43YVd",
        "colab_type": "text"
      },
      "source": [
        "### 1-3. 사람(Human)클래스에 \"응애응애\"를 출력하는 생성자를 추가해라"
      ]
    },
    {
      "cell_type": "code",
      "metadata": {
        "id": "9mNVARln387s",
        "colab_type": "code",
        "colab": {
          "base_uri": "https://localhost:8080/",
          "height": 52
        },
        "outputId": "e92ee07a-3777-4c8d-cef0-ad52a28fb18c"
      },
      "source": [
        "class Human():\n",
        "  def __init__(self):\n",
        "     print(\"응애응애\")\n",
        "\n",
        "Human()"
      ],
      "execution_count": null,
      "outputs": [
        {
          "output_type": "stream",
          "text": [
            "응애응애\n"
          ],
          "name": "stdout"
        },
        {
          "output_type": "execute_result",
          "data": {
            "text/plain": [
              "<__main__.Human at 0x7fbd8533c8d0>"
            ]
          },
          "metadata": {
            "tags": []
          },
          "execution_count": 6
        }
      ]
    },
    {
      "cell_type": "markdown",
      "metadata": {
        "id": "CWppMyNq3YVe",
        "colab_type": "text"
      },
      "source": [
        "### 1-4. 사람(Human)클래스에 (이름,나이,성별)을 받는 생성자를 추가하여라"
      ]
    },
    {
      "cell_type": "code",
      "metadata": {
        "id": "WIc5VnOO_tNc",
        "colab_type": "code",
        "colab": {}
      },
      "source": [
        "class Human():\n",
        "  def __init__(self,name,age,gender):\n",
        "    self.name = name\n",
        "    self.age = age\n",
        "    self.gender = gender"
      ],
      "execution_count": null,
      "outputs": []
    },
    {
      "cell_type": "markdown",
      "metadata": {
        "id": "ybuJ6M3C3YVf",
        "colab_type": "text"
      },
      "source": [
        "### 1-5. 위에서 생성한 인스턴스의 이름, 나이, 성별을 출력하여라. 인스턴스 변수에 접근하여 값을 얻어 오세요."
      ]
    },
    {
      "cell_type": "code",
      "metadata": {
        "id": "jbJgkqttAOFS",
        "colab_type": "code",
        "colab": {
          "base_uri": "https://localhost:8080/",
          "height": 70
        },
        "outputId": "a4429cd4-d6b1-410a-b734-63f050e4122b"
      },
      "source": [
        "jh=Human(\"jh\",\"300\",\"ff\")\n",
        "\n",
        "print(jh.name)\n",
        "print(jh.age)\n",
        "print(jh.gender)\n"
      ],
      "execution_count": null,
      "outputs": [
        {
          "output_type": "stream",
          "text": [
            "jh\n",
            "300\n",
            "ff\n"
          ],
          "name": "stdout"
        }
      ]
    },
    {
      "cell_type": "markdown",
      "metadata": {
        "id": "wupkAd4_3YVg",
        "colab_type": "text"
      },
      "source": [
        "### 1-6.사람 (Human) 클래스에서 이름, 나이, 성별을 출력하는 who() 메소드를 구현하여라."
      ]
    },
    {
      "cell_type": "code",
      "metadata": {
        "id": "dbBNHzYTAv45",
        "colab_type": "code",
        "colab": {
          "base_uri": "https://localhost:8080/",
          "height": 70
        },
        "outputId": "923811b8-f7fb-4961-9ec1-d7580ad945e7"
      },
      "source": [
        "class Human():\n",
        "  def __init__(self,name,age,gender):\n",
        "    self.name = name\n",
        "    self.age = age\n",
        "    self.gender = gender\n",
        "  def who(self):\n",
        "    print(self.name)\n",
        "    print(self.age)\n",
        "    print(self.gender)\n",
        "\n",
        "jh=Human(\"jh\",\"300\",\"ff\")\n",
        "jh.who()\n",
        "    \n",
        "    "
      ],
      "execution_count": null,
      "outputs": [
        {
          "output_type": "stream",
          "text": [
            "jh\n",
            "300\n",
            "ff\n"
          ],
          "name": "stdout"
        }
      ]
    },
    {
      "cell_type": "markdown",
      "metadata": {
        "id": "c9aUNRtX3YVh",
        "colab_type": "text"
      },
      "source": [
        "### 1-7.사람 (Human) 클래스에 (이름, 나이, 성별)을 받는 setInfo 메소드를 추가하여라."
      ]
    },
    {
      "cell_type": "code",
      "metadata": {
        "id": "AKHSzZzP3YVi",
        "colab_type": "code",
        "colab": {}
      },
      "source": [
        "class Human():\n",
        "  def __init__(self,name,age,gender):\n",
        "    self.name = name\n",
        "    self.age = age\n",
        "    self.gender = gender\n",
        "  def who(self):\n",
        "    print(self.name)\n",
        "    print(self.age)\n",
        "    print(self.gender)\n",
        "  def setInfo(self,name,age,gender):\n",
        "    self.name = name\n",
        "    self.age = age\n",
        "    self.gender = gender"
      ],
      "execution_count": null,
      "outputs": []
    },
    {
      "cell_type": "markdown",
      "metadata": {
        "id": "LQZnTZ5w3YVl",
        "colab_type": "text"
      },
      "source": [
        "### 2.다음은 Calculator 클래스이다."
      ]
    },
    {
      "cell_type": "code",
      "metadata": {
        "id": "Cz0xW4tI3YVm",
        "colab_type": "code",
        "colab": {}
      },
      "source": [
        "class Calculator:\n",
        "    def __init__(self):\n",
        "        self.value = 0\n",
        "\n",
        "    def add(self, val):\n",
        "        self.value += val\n",
        "        return self.value"
      ],
      "execution_count": null,
      "outputs": []
    },
    {
      "cell_type": "markdown",
      "metadata": {
        "id": "4nlc0gC93YVq",
        "colab_type": "text"
      },
      "source": [
        "#### 위 클래스를 상속하는 UpgradeCalculator를 만들고 값을 뺄 수 있는 minus 메서드를 추가해 보자. 즉 다음과 같이 동작하는 클래스를 만들어야 한다."
      ]
    },
    {
      "cell_type": "code",
      "metadata": {
        "id": "fmtZ4PMtBpiD",
        "colab_type": "code",
        "colab": {
          "base_uri": "https://localhost:8080/",
          "height": 52
        },
        "outputId": "bb2597d8-086e-41aa-f46f-7f42f72a7ca3"
      },
      "source": [
        "class UpgradeCalculator(Calculator):\n",
        "    def minus(self, val):\n",
        "        self.value -= val\n",
        "        return self.value\n",
        "\n",
        "aa = UpgradeCalculator()\n",
        "print(aa.minus(3))\n",
        "print(aa.add(33))"
      ],
      "execution_count": null,
      "outputs": [
        {
          "output_type": "stream",
          "text": [
            "-3\n",
            "30\n"
          ],
          "name": "stdout"
        }
      ]
    },
    {
      "cell_type": "markdown",
      "metadata": {
        "id": "58JV08mj3YVq",
        "colab_type": "text"
      },
      "source": [
        "### 3. 객체변수 value가 100 이상의 값은 가질 수 없도록 제한하는 MaxLimitCalculator 클래스를 만들어 보자. 즉 다음과 같이 동작해야 한다."
      ]
    },
    {
      "cell_type": "code",
      "metadata": {
        "id": "cP0vqUlt3YVr",
        "colab_type": "code",
        "colab": {
          "base_uri": "https://localhost:8080/",
          "height": 52
        },
        "outputId": "6cebf4b3-0013-4c9f-8161-bcdfb545433d"
      },
      "source": [
        "#cal = MaxLimitCalculator()\n",
        "#cal.add(50) # 50 더하기\n",
        "#cal.add(60) # 60 더하기\n",
        "\n",
        "#print(cal.value) # 100 출력\n",
        "class Calculator:\n",
        "    def __init__(self):\n",
        "        self.value = 0\n",
        "\n",
        "    def add(self, val):\n",
        "        self.value += val\n",
        "\n",
        "class MaxLimitCalculator(Calculator):\n",
        "    def add(self, val):\n",
        "        self.value += val\n",
        "        if self.value >= 100:\n",
        "            self.value = None\n",
        "            return print(\"cant calculate\")\n",
        "        else:\n",
        "            return self.value\n",
        "\n",
        "\n",
        "cal = MaxLimitCalculator()\n",
        "print(cal.add(50)) # 50 더하기\n",
        "cal.add(60) # 60 더하기"
      ],
      "execution_count": null,
      "outputs": [
        {
          "output_type": "stream",
          "text": [
            "50\n",
            "cant calculate\n"
          ],
          "name": "stdout"
        }
      ]
    },
    {
      "cell_type": "markdown",
      "metadata": {
        "id": "PVFwAqSe3YVt",
        "colab_type": "text"
      },
      "source": [
        "#### 단 반드시 다음과 같은 Calculator 클래스를 상속해서 만들어야 한다."
      ]
    },
    {
      "cell_type": "code",
      "metadata": {
        "id": "248LQ9Y23YVu",
        "colab_type": "code",
        "colab": {}
      },
      "source": [
        "class Calculator:\n",
        "    def __init__(self):\n",
        "        self.value = 0\n",
        "\n",
        "    def add(self, val):\n",
        "        self.value += val"
      ],
      "execution_count": null,
      "outputs": []
    }
  ]
}